{
  "nbformat": 4,
  "nbformat_minor": 0,
  "metadata": {
    "colab": {
      "name": "8reinas.ipynb",
      "provenance": [],
      "collapsed_sections": []
    },
    "kernelspec": {
      "name": "python3",
      "display_name": "Python 3"
    }
  },
  "cells": [
    {
      "cell_type": "code",
      "metadata": {
        "colab": {
          "base_uri": "https://localhost:8080/"
        },
        "id": "mwcwU2TgzKX9",
        "outputId": "0cea462c-4620-4d3b-81a0-c237eaf07740"
      },
      "source": [
        "def Reinas(solucion,etapa,n):\n",
        "\tif etapa>=n:                             \n",
        "\t\treturn False\n",
        "\texito = False                           \n",
        "\t\n",
        "\twhile True:\n",
        "            if (solucion[etapa] < n):                      \n",
        "                solucion[etapa] = solucion[etapa] + 1       \n",
        "\n",
        "            if (Valido(solucion,etapa)):                   \n",
        "\n",
        "                if etapa != n-1:                            \n",
        "                    exito = Reinas(solucion, etapa+1,n)\n",
        "                    if exito==False:                        \n",
        "                        solucion[etapa+1] = 0\n",
        "\n",
        "                else:\n",
        "                    print(solucion)                         \n",
        "                    exito = True\n",
        "            if (solucion[etapa]==n or exito==True):         \n",
        "                break\n",
        "\treturn exito\n",
        "\n",
        "\n",
        "def Valido(solucion,etapa):\n",
        "\tfor i in range(etapa):\n",
        "\t\tif(solucion[i] == solucion[etapa]) or (ValPos(solucion[i],solucion[etapa])==ValPos(i,etapa)):\n",
        "\t\t\treturn False\n",
        "\n",
        "\treturn True\n",
        "\n",
        "def ValPos(x,y):\n",
        "\tif x>y:\n",
        "\t\treturn x - y\n",
        "\telse:\n",
        "\t\treturn y - x\t\n",
        "\n",
        "reinas = 8\n",
        "solucion = []\n",
        "for i in range(reinas):\n",
        "\tsolucion.append(0)\n",
        "etapa = 0\n",
        "print(Reinas(solucion, etapa, reinas))"
      ],
      "execution_count": 2,
      "outputs": [
        {
          "output_type": "stream",
          "text": [
            "[1, 5, 8, 6, 3, 7, 2, 4]\n",
            "True\n"
          ],
          "name": "stdout"
        }
      ]
    },
    {
      "cell_type": "markdown",
      "metadata": {
        "id": "6OO2Q_nb44mw"
      },
      "source": [
        "Analisis cualitativo:\n",
        "\n",
        "Este algoritmo de las 8 reinas se basa en colocar en el tablero las 8 reinas de manera en que ninguna se pueda comer con la otra.\n",
        "\n",
        "Como funciona?\n",
        "\n",
        "Se tiene que ir verificando que las etapas sean menores que la cantidad de reinas porque por asi decirlo de ser mayor seria como que se saliera del tablero.\n",
        "\n",
        "la funcion de las Reinas se encarga de ir verificando las columnas (etapas) con fila viendo que las reinas no se puedan comer entre ellas para verificar la mejor posicion para colocarse, pero esto se cumple gracias a la funcion Valido que es la escargada de hacer backtracking y ver las mejores posibilidades para colocarse asi que combinando estas 2 funcionan como La Reinas se posiciona con recorridos y Valido verifica si es una posicion optima, Al final se imprime un arreglo que representa las columnas y en que posicion se tiene que colocar la reina despues de esto retorna un True si esto fue posible."
      ]
    }
  ]
}